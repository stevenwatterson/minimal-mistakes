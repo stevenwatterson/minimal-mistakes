{
 "cells": [
  {
   "cell_type": "code",
   "execution_count": null,
   "id": "e4779cd1",
   "metadata": {},
   "outputs": [],
   "source": [
    "# conda activate\n",
    "# pip install --upgrade ipywidgets\n",
    "# !jupyter nbextension enable --py widgetsnbextension\n"
   ]
  },
  {
   "cell_type": "code",
   "execution_count": null,
   "id": "3b3a973b",
   "metadata": {},
   "outputs": [],
   "source": [
    "!jupyter nbextension enable --py widgetsnbextension --sys-prefix\n",
    "!jupyter serverextension enable voila --sys-prefix"
   ]
  },
  {
   "cell_type": "markdown",
   "id": "09583ae8",
   "metadata": {},
   "source": [
    "# Population Generator"
   ]
  },
  {
   "cell_type": "code",
   "execution_count": 1,
   "id": "ce074a2f",
   "metadata": {},
   "outputs": [
    {
     "data": {
      "application/vnd.jupyter.widget-view+json": {
       "model_id": "4c57babc2d65499b930abeab93484805",
       "version_major": 2,
       "version_minor": 0
      },
      "text/plain": [
       "VBox(children=(IntText(value=1700, description='Start Year:'), IntText(value=2023, description='End Year:'), I…"
      ]
     },
     "metadata": {},
     "output_type": "display_data"
    },
    {
     "data": {
      "application/vnd.jupyter.widget-view+json": {
       "model_id": "1ae7a9c8e0ae432bbde5c7c0625bd98c",
       "version_major": 2,
       "version_minor": 0
      },
      "text/plain": [
       "Output()"
      ]
     },
     "metadata": {},
     "output_type": "display_data"
    }
   ],
   "source": [
    "# @title General Settings\n",
    "import ipywidgets as widgets\n",
    "from IPython.display import display\n",
    "import random\n",
    "import math\n",
    "\n",
    "# Initialize default values\n",
    "default_start_year = 1700\n",
    "default_end_year = 2023\n",
    "default_age_gap = 10\n",
    "default_reference_year = 2012\n",
    "default_reference_female_population = 25269\n",
    "default_total_female_population_reference = 374500  # New default value\n",
    "\n",
    "Latest_Family_ID = 0\n",
    "IDs = []\n",
    "IDs.extend(range(Latest_Family_ID + 1, 2*10**6))\n",
    "\n",
    "# Update years, gap values, female population, and total female population at reference year\n",
    "def update_all_values(start_year_value, end_year_value, reference_year_value, age_gap_value, female_population_value, total_female_population_reference_value):\n",
    "    global start_year, end_year, reference_year, age_gap, female_population, total_female_population_reference\n",
    "    start_year = start_year_value\n",
    "    end_year = end_year_value\n",
    "    reference_year = reference_year_value\n",
    "    age_gap = [-age_gap_value, age_gap_value]\n",
    "    female_population = female_population_value\n",
    "    total_female_population_reference = total_female_population_reference_value\n",
    "\n",
    "# Ensure that start year is not after end year\n",
    "def validate_start_year(change):\n",
    "    if start_year_input.value > end_year_input.value:\n",
    "        start_year_input.value = end_year_input.value\n",
    "\n",
    "# Ensure that end year is not before start year\n",
    "def validate_end_year(change):\n",
    "    if end_year_input.value < start_year_input.value:\n",
    "        end_year_input.value = start_year_input.value\n",
    "\n",
    "# Ensure that reference year is within the range [start year, end year]\n",
    "def validate_reference_year(change):\n",
    "    if reference_year_input.value < start_year_input.value:\n",
    "        reference_year_input.value = start_year_input.value\n",
    "    elif reference_year_input.value > end_year_input.value:\n",
    "        reference_year_input.value = end_year_input.value\n",
    "\n",
    "# Creating widgets\n",
    "start_year_input = widgets.IntText(value=default_start_year, description='Start Year:')\n",
    "end_year_input = widgets.IntText(value=default_end_year, description='End Year:')\n",
    "age_gap_input = widgets.IntText(value=default_age_gap, description='Couple Age Gap Range:')\n",
    "reference_year_input = widgets.IntText(value=default_reference_year, description='Reference Year:')\n",
    "female_population_input = widgets.IntText(value=default_reference_female_population, description='Live Births at reference year:')\n",
    "total_female_population_reference_input = widgets.IntText(value=default_total_female_population_reference, description='Total Female Pop. at Ref Year:')\n",
    "\n",
    "# Add observers for start year, end year, and reference year validation\n",
    "start_year_input.observe(validate_start_year, 'value')\n",
    "end_year_input.observe(validate_end_year, 'value')\n",
    "reference_year_input.observe(validate_reference_year, 'value')\n",
    "\n",
    "# Creating interact UI\n",
    "ui = widgets.VBox([start_year_input, end_year_input, reference_year_input, age_gap_input, female_population_input, total_female_population_reference_input])\n",
    "\n",
    "out = widgets.interactive_output(update_all_values,\n",
    "                                 {'start_year_value': start_year_input,\n",
    "                                  'end_year_value': end_year_input,\n",
    "                                  'reference_year_value': reference_year_input,\n",
    "                                  'age_gap_value': age_gap_input,\n",
    "                                  'female_population_value': female_population_input,\n",
    "                                  'total_female_population_reference_value': total_female_population_reference_input})\n",
    "\n",
    "display(ui, out)\n"
   ]
  },
  {
   "cell_type": "code",
   "execution_count": 2,
   "id": "a8969cc1",
   "metadata": {},
   "outputs": [
    {
     "data": {
      "application/vnd.jupyter.widget-view+json": {
       "model_id": "ccec9a5103934117912612660da2aeff",
       "version_major": 2,
       "version_minor": 0
      },
      "text/plain": [
       "interactive(children=(FloatSlider(value=1274.4646464646464, description='a', max=4500.0, min=-10000.0, step=15…"
      ]
     },
     "metadata": {},
     "output_type": "display_data"
    },
    {
     "data": {
      "text/plain": [
       "<function __main__.plot_heaviside(a, c, k)>"
      ]
     },
     "execution_count": 2,
     "metadata": {},
     "output_type": "execute_result"
    }
   ],
   "source": [
    "# @title Generation Zero - Population Structure\n",
    "## # Input data\n",
    "\n",
    "y = [31543, 31543, 31543, 31543, 31092, 31092, 31092, 31092, 31092,\n",
    "       31092, 31092, 31092, 26627, 26627, 26627, 26627, 26627, 24791,\n",
    "       24791, 24791, 24184, 24184, 24184, 24184, 24184, 20300, 20300,\n",
    "       20300, 20300, 20300, 16824, 16824, 16824, 16824, 16824, 16824,\n",
    "       16824, 16824, 16824, 16824, 16824, 16824, 16824, 16824, 16824,\n",
    "       16176, 16176, 16176, 16176, 16176, 16176, 16176, 16176, 16176,\n",
    "       16176, 16176, 16176, 16176, 16176, 16176, 14900, 14900, 14900,\n",
    "       14900, 14900, 11856, 11856, 11856, 11856, 11856,  3445,  3445,\n",
    "        3445,  3445,  3445,  3445,  3445,  3445,  3445,  3445,  3445,\n",
    "        3445,  3445,  3445,  3445,  3445,  3445,  3445,  3445,  3445,\n",
    "        3445,  3445,  3445,  3445,  3445,  3445,  3445,  3445,  3445,\n",
    "        3445,  3445]\n",
    "\n",
    "\n",
    "best_parameters = [1274.4646464646464, 515.1515151515152, 0.020202020202020204]\n",
    "import numpy as np\n",
    "import matplotlib.pyplot as plt\n",
    "from ipywidgets import interact, FloatSlider\n",
    "\n",
    "def heaviside(x, a, c, k):\n",
    "    return np.maximum(a + np.exp((-k*x) + (k*c)), 0)\n",
    "\n",
    "def plot_heaviside(a, c, k):\n",
    "    x = np.arange(len(y))\n",
    "    y_fit = heaviside(x, a, c, k)\n",
    "\n",
    "    y_scaled = np.array(y)*0.001\n",
    "    y_fit_scaled = y_fit*0.001\n",
    "\n",
    "\n",
    "    fig, ax = plt.subplots()\n",
    "    ax.bar(x, y_scaled, width=0.8, color='black', edgecolor='black', label='Example data')\n",
    "    ax.plot(x, y_fit_scaled, color='red', label='fit')\n",
    "    #ax.set_ylim(0, max(y)+16000)\n",
    "    ax.set_xlabel('Age (years)', fontsize=12)\n",
    "    ax.set_ylabel('Population size', fontsize=12)\n",
    "    #ax.set_yticks(np.arange(0, 50000, 5000))\n",
    "    ax.legend()\n",
    "    plt.show()\n",
    "\n",
    "    global f_ages\n",
    "    f_ages = y_fit_scaled.astype(int)\n",
    "\n",
    "a_slider = FloatSlider(min=-10000, max=4500, step=1500, value=best_parameters[0], description='a')\n",
    "c_slider = FloatSlider(min=485, max=530, step=5, value=best_parameters[1], description='c')\n",
    "k_slider = FloatSlider(min=0.016, max=0.0210, step=0.00030, value=best_parameters[2], description='k')\n",
    "\n",
    "interact(plot_heaviside, a=a_slider, c=c_slider, k=k_slider)\n"
   ]
  },
  {
   "cell_type": "code",
   "execution_count": null,
   "id": "6959d894",
   "metadata": {},
   "outputs": [],
   "source": []
  },
  {
   "cell_type": "code",
   "execution_count": null,
   "id": "46f44268",
   "metadata": {},
   "outputs": [],
   "source": []
  },
  {
   "cell_type": "code",
   "execution_count": null,
   "id": "0f40c974",
   "metadata": {},
   "outputs": [],
   "source": []
  },
  {
   "cell_type": "code",
   "execution_count": null,
   "id": "7eb1d2e3",
   "metadata": {},
   "outputs": [],
   "source": []
  }
 ],
 "metadata": {
  "kernelspec": {
   "display_name": "Python 3 (ipykernel)",
   "language": "python",
   "name": "python3"
  },
  "language_info": {
   "codemirror_mode": {
    "name": "ipython",
    "version": 3
   },
   "file_extension": ".py",
   "mimetype": "text/x-python",
   "name": "python",
   "nbconvert_exporter": "python",
   "pygments_lexer": "ipython3",
   "version": "3.7.13"
  }
 },
 "nbformat": 4,
 "nbformat_minor": 5
}
